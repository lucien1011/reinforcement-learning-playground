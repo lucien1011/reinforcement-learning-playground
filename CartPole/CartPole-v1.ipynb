{
 "cells": [
  {
   "cell_type": "code",
   "execution_count": 1,
   "metadata": {},
   "outputs": [
    {
     "name": "stdout",
     "output_type": "stream",
     "text": [
      "/Users/lucien/.pyenv/versions/3.7.6/bin/python3\n"
     ]
    }
   ],
   "source": [
    "# Checking which python3 I am using\n",
    "import sys\n",
    "print(sys.executable)"
   ]
  },
  {
   "cell_type": "code",
   "execution_count": 2,
   "metadata": {},
   "outputs": [],
   "source": [
    "# Import necessary libraries\n",
    "import gym\n",
    "import numpy as np"
   ]
  },
  {
   "cell_type": "code",
   "execution_count": 3,
   "metadata": {},
   "outputs": [
    {
     "name": "stdout",
     "output_type": "stream",
     "text": [
      "Created env: <TimeLimit<CartPoleEnv<CartPole-v1>>>\n"
     ]
    }
   ],
   "source": [
    "# Make our environment\n",
    "env = gym.make(\"CartPole-v1\")\n",
    "print(\"Created env:\", env)"
   ]
  },
  {
   "cell_type": "code",
   "execution_count": 4,
   "metadata": {},
   "outputs": [
    {
     "name": "stdout",
     "output_type": "stream",
     "text": [
      "The starting state is: [-0.03985798  0.04552898  0.01451837 -0.02588705]\n"
     ]
    }
   ],
   "source": [
    "# Initialize our environment\n",
    "state = env.reset()\n",
    "print(\"The starting state is:\", state)"
   ]
  },
  {
   "cell_type": "code",
   "execution_count": 18,
   "metadata": {},
   "outputs": [
    {
     "name": "stderr",
     "output_type": "stream",
     "text": [
      "/Users/lucien/.pyenv/versions/3.7.6/lib/python3.7/site-packages/gym/logger.py:30: UserWarning: \u001b[33mWARN: You are calling 'step()' even though this environment has already returned done = True. You should always call 'reset()' once you receive 'done = True' -- any further steps are undefined behavior.\u001b[0m\n",
      "  warnings.warn(colorize('%s: %s'%('WARN', msg % args), 'yellow'))\n"
     ]
    }
   ],
   "source": [
    "# Look at how the cartpole behaves by taking a random policy\n",
    "env.reset()\n",
    "for _ in range(100):\n",
    "    env.render()\n",
    "    env.step(env.action_space.sample()) # take a random action"
   ]
  },
  {
   "cell_type": "code",
   "execution_count": 7,
   "metadata": {},
   "outputs": [],
   "source": [
    "# Import ray and rllib library\n",
    "import ray\n",
    "from ray.rllib.agents.ppo import PPOTrainer, DEFAULT_CONFIG\n",
    "from ray.tune.logger import pretty_print"
   ]
  },
  {
   "cell_type": "code",
   "execution_count": 8,
   "metadata": {},
   "outputs": [
    {
     "name": "stderr",
     "output_type": "stream",
     "text": [
      "2020-10-29 21:43:02,414\tINFO services.py:1166 -- View the Ray dashboard at \u001b[1m\u001b[32mhttp://127.0.0.1:8265\u001b[39m\u001b[22m\n"
     ]
    }
   ],
   "source": [
    "# Initialize ray before training, a necessary step\n",
    "info = ray.init(ignore_reinit_error=True, log_to_driver=False)"
   ]
  },
  {
   "cell_type": "code",
   "execution_count": 26,
   "metadata": {},
   "outputs": [
    {
     "name": "stderr",
     "output_type": "stream",
     "text": [
      "2020-10-29 22:03:39,455\tWARNING util.py:39 -- Install gputil for GPU system monitoring.\n"
     ]
    },
    {
     "name": "stdout",
     "output_type": "stream",
     "text": [
      "  0: Min/Mean/Max reward:   8.0000/ 24.5309/ 97.0000\n",
      "  1: Min/Mean/Max reward:  12.0000/ 40.9000/130.0000\n",
      "  2: Min/Mean/Max reward:  13.0000/ 61.0300/236.0000\n",
      "  3: Min/Mean/Max reward:  13.0000/ 86.1700/236.0000\n",
      "  4: Min/Mean/Max reward:  13.0000/118.1100/363.0000\n",
      "  5: Min/Mean/Max reward:  13.0000/152.3100/476.0000\n",
      "  6: Min/Mean/Max reward:  19.0000/177.4000/500.0000\n",
      "  7: Min/Mean/Max reward:  28.0000/208.8400/500.0000\n",
      "  8: Min/Mean/Max reward:  28.0000/240.0100/500.0000\n",
      "  9: Min/Mean/Max reward:  37.0000/267.7000/500.0000\n",
      " 10: Min/Mean/Max reward:  49.0000/295.3300/500.0000\n",
      " 11: Min/Mean/Max reward:  55.0000/321.1000/500.0000\n",
      " 12: Min/Mean/Max reward:  55.0000/340.3500/500.0000\n",
      " 13: Min/Mean/Max reward:  55.0000/362.0000/500.0000\n",
      " 14: Min/Mean/Max reward:  55.0000/376.3600/500.0000\n",
      " 15: Min/Mean/Max reward: 129.0000/383.8000/500.0000\n",
      " 16: Min/Mean/Max reward: 173.0000/397.7600/500.0000\n",
      " 17: Min/Mean/Max reward: 173.0000/404.0500/500.0000\n",
      " 18: Min/Mean/Max reward: 173.0000/409.9300/500.0000\n",
      " 19: Min/Mean/Max reward: 215.0000/419.4000/500.0000\n"
     ]
    }
   ],
   "source": [
    "# The actual training happens here!\n",
    "\n",
    "config = DEFAULT_CONFIG.copy()\n",
    "config['num_workers'] = 1\n",
    "config['num_sgd_iter'] = 30\n",
    "config['sgd_minibatch_size'] = 128\n",
    "config['model']['fcnet_hiddens'] = [100, 100]\n",
    "config['num_cpus_per_worker'] = 0 \n",
    "\n",
    "agent = PPOTrainer(config, 'CartPole-v1')\n",
    "\n",
    "N = 20\n",
    "results = []\n",
    "episode_data = []\n",
    "episode_json = []\n",
    "\n",
    "for n in range(N):\n",
    "    result = agent.train()\n",
    "    results.append(result)\n",
    "    \n",
    "    episode = {'n': n, \n",
    "               'episode_reward_min':  result['episode_reward_min'],  \n",
    "               'episode_reward_mean': result['episode_reward_mean'], \n",
    "               'episode_reward_max':  result['episode_reward_max'],  \n",
    "               'episode_len_mean':    result['episode_len_mean']} \n",
    "    \n",
    "    episode_data.append(episode)\n",
    "    episode_json.append(json.dumps(episode))\n",
    "    \n",
    "    print(f'{n:3d}: Min/Mean/Max reward: {result[\"episode_reward_min\"]:8.4f}/{result[\"episode_reward_mean\"]:8.4f}/{result[\"episode_reward_max\"]:8.4f}')"
   ]
  },
  {
   "cell_type": "code",
   "execution_count": 40,
   "metadata": {},
   "outputs": [
    {
     "name": "stdout",
     "output_type": "stream",
     "text": [
      "Total reward 1000.0\n"
     ]
    }
   ],
   "source": [
    "# Inspect our result\n",
    "state = env.reset()\n",
    "done = False\n",
    "total_reward = 0\n",
    "while not done:\n",
    "    action = agent.compute_action(state)\n",
    "    state, reward, done, _ = env.step(action) # take a random action\n",
    "    total_reward += reward\n",
    "    env.render()\n",
    "print(\"Total reward\",total_reward)"
   ]
  }
 ],
 "metadata": {
  "kernelspec": {
   "display_name": "py3.7.6",
   "language": "python",
   "name": "py3.7.6"
  },
  "language_info": {
   "codemirror_mode": {
    "name": "ipython",
    "version": 3
   },
   "file_extension": ".py",
   "mimetype": "text/x-python",
   "name": "python",
   "nbconvert_exporter": "python",
   "pygments_lexer": "ipython3",
   "version": "3.7.6"
  }
 },
 "nbformat": 4,
 "nbformat_minor": 4
}
